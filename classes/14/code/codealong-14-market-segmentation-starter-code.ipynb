{
 "cells": [
  {
   "cell_type": "markdown",
   "metadata": {},
   "source": [
    "# DS-SF-27 | Codelaong 14 | Market Segmentation"
   ]
  },
  {
   "cell_type": "code",
   "execution_count": 1,
   "metadata": {
    "collapsed": true
   },
   "outputs": [],
   "source": [
    "import os\n",
    "\n",
    "import numpy as np\n",
    "import pandas as pd\n",
    "pd.set_option('display.max_rows', 10)\n",
    "pd.set_option('display.notebook_repr_html', True)\n",
    "pd.set_option('display.max_columns', 10)\n",
    "\n",
    "from sklearn import decomposition, cluster\n",
    "\n",
    "import matplotlib.pyplot as plt\n",
    "%matplotlib inline\n",
    "plt.style.use('ggplot')"
   ]
  },
  {
   "cell_type": "code",
   "execution_count": 11,
   "metadata": {
    "collapsed": false
   },
   "outputs": [],
   "source": [
    "df = pd.read_csv(os.path.join('..', 'datasets', 'ford-ka.csv'), index_col = 'id')"
   ]
  },
  {
   "cell_type": "code",
   "execution_count": 3,
   "metadata": {
    "collapsed": false
   },
   "outputs": [
    {
     "data": {
      "text/html": [
       "<div>\n",
       "<table border=\"1\" class=\"dataframe\">\n",
       "  <thead>\n",
       "    <tr style=\"text-align: right;\">\n",
       "      <th></th>\n",
       "      <th>Q1</th>\n",
       "      <th>Q2</th>\n",
       "      <th>Q3</th>\n",
       "      <th>Q4</th>\n",
       "      <th>Q5</th>\n",
       "      <th>...</th>\n",
       "      <th>Q58</th>\n",
       "      <th>Q59</th>\n",
       "      <th>Q60</th>\n",
       "      <th>Q61</th>\n",
       "      <th>Q62</th>\n",
       "    </tr>\n",
       "    <tr>\n",
       "      <th>id</th>\n",
       "      <th></th>\n",
       "      <th></th>\n",
       "      <th></th>\n",
       "      <th></th>\n",
       "      <th></th>\n",
       "      <th></th>\n",
       "      <th></th>\n",
       "      <th></th>\n",
       "      <th></th>\n",
       "      <th></th>\n",
       "      <th></th>\n",
       "    </tr>\n",
       "  </thead>\n",
       "  <tbody>\n",
       "    <tr>\n",
       "      <th>1</th>\n",
       "      <td>6</td>\n",
       "      <td>2</td>\n",
       "      <td>4</td>\n",
       "      <td>3</td>\n",
       "      <td>1</td>\n",
       "      <td>...</td>\n",
       "      <td>3</td>\n",
       "      <td>4</td>\n",
       "      <td>4</td>\n",
       "      <td>4</td>\n",
       "      <td>2</td>\n",
       "    </tr>\n",
       "    <tr>\n",
       "      <th>2</th>\n",
       "      <td>7</td>\n",
       "      <td>7</td>\n",
       "      <td>7</td>\n",
       "      <td>5</td>\n",
       "      <td>4</td>\n",
       "      <td>...</td>\n",
       "      <td>4</td>\n",
       "      <td>3</td>\n",
       "      <td>5</td>\n",
       "      <td>4</td>\n",
       "      <td>5</td>\n",
       "    </tr>\n",
       "    <tr>\n",
       "      <th>3</th>\n",
       "      <td>5</td>\n",
       "      <td>4</td>\n",
       "      <td>6</td>\n",
       "      <td>5</td>\n",
       "      <td>7</td>\n",
       "      <td>...</td>\n",
       "      <td>4</td>\n",
       "      <td>5</td>\n",
       "      <td>3</td>\n",
       "      <td>4</td>\n",
       "      <td>4</td>\n",
       "    </tr>\n",
       "    <tr>\n",
       "      <th>4</th>\n",
       "      <td>4</td>\n",
       "      <td>2</td>\n",
       "      <td>5</td>\n",
       "      <td>4</td>\n",
       "      <td>2</td>\n",
       "      <td>...</td>\n",
       "      <td>2</td>\n",
       "      <td>5</td>\n",
       "      <td>5</td>\n",
       "      <td>5</td>\n",
       "      <td>3</td>\n",
       "    </tr>\n",
       "    <tr>\n",
       "      <th>5</th>\n",
       "      <td>5</td>\n",
       "      <td>5</td>\n",
       "      <td>7</td>\n",
       "      <td>6</td>\n",
       "      <td>7</td>\n",
       "      <td>...</td>\n",
       "      <td>5</td>\n",
       "      <td>4</td>\n",
       "      <td>3</td>\n",
       "      <td>4</td>\n",
       "      <td>5</td>\n",
       "    </tr>\n",
       "    <tr>\n",
       "      <th>...</th>\n",
       "      <td>...</td>\n",
       "      <td>...</td>\n",
       "      <td>...</td>\n",
       "      <td>...</td>\n",
       "      <td>...</td>\n",
       "      <td>...</td>\n",
       "      <td>...</td>\n",
       "      <td>...</td>\n",
       "      <td>...</td>\n",
       "      <td>...</td>\n",
       "      <td>...</td>\n",
       "    </tr>\n",
       "    <tr>\n",
       "      <th>246</th>\n",
       "      <td>6</td>\n",
       "      <td>7</td>\n",
       "      <td>5</td>\n",
       "      <td>5</td>\n",
       "      <td>3</td>\n",
       "      <td>...</td>\n",
       "      <td>5</td>\n",
       "      <td>2</td>\n",
       "      <td>3</td>\n",
       "      <td>4</td>\n",
       "      <td>5</td>\n",
       "    </tr>\n",
       "    <tr>\n",
       "      <th>247</th>\n",
       "      <td>4</td>\n",
       "      <td>3</td>\n",
       "      <td>6</td>\n",
       "      <td>7</td>\n",
       "      <td>6</td>\n",
       "      <td>...</td>\n",
       "      <td>2</td>\n",
       "      <td>5</td>\n",
       "      <td>4</td>\n",
       "      <td>4</td>\n",
       "      <td>4</td>\n",
       "    </tr>\n",
       "    <tr>\n",
       "      <th>248</th>\n",
       "      <td>6</td>\n",
       "      <td>5</td>\n",
       "      <td>3</td>\n",
       "      <td>1</td>\n",
       "      <td>4</td>\n",
       "      <td>...</td>\n",
       "      <td>6</td>\n",
       "      <td>6</td>\n",
       "      <td>1</td>\n",
       "      <td>2</td>\n",
       "      <td>2</td>\n",
       "    </tr>\n",
       "    <tr>\n",
       "      <th>249</th>\n",
       "      <td>3</td>\n",
       "      <td>3</td>\n",
       "      <td>6</td>\n",
       "      <td>7</td>\n",
       "      <td>6</td>\n",
       "      <td>...</td>\n",
       "      <td>5</td>\n",
       "      <td>4</td>\n",
       "      <td>5</td>\n",
       "      <td>5</td>\n",
       "      <td>3</td>\n",
       "    </tr>\n",
       "    <tr>\n",
       "      <th>250</th>\n",
       "      <td>7</td>\n",
       "      <td>6</td>\n",
       "      <td>3</td>\n",
       "      <td>3</td>\n",
       "      <td>4</td>\n",
       "      <td>...</td>\n",
       "      <td>5</td>\n",
       "      <td>5</td>\n",
       "      <td>5</td>\n",
       "      <td>3</td>\n",
       "      <td>6</td>\n",
       "    </tr>\n",
       "  </tbody>\n",
       "</table>\n",
       "<p>250 rows × 62 columns</p>\n",
       "</div>"
      ],
      "text/plain": [
       "     Q1  Q2  Q3  Q4  Q5 ...   Q58  Q59  Q60  Q61  Q62\n",
       "id                      ...                          \n",
       "1     6   2   4   3   1 ...     3    4    4    4    2\n",
       "2     7   7   7   5   4 ...     4    3    5    4    5\n",
       "3     5   4   6   5   7 ...     4    5    3    4    4\n",
       "4     4   2   5   4   2 ...     2    5    5    5    3\n",
       "5     5   5   7   6   7 ...     5    4    3    4    5\n",
       "..   ..  ..  ..  ..  .. ...   ...  ...  ...  ...  ...\n",
       "246   6   7   5   5   3 ...     5    2    3    4    5\n",
       "247   4   3   6   7   6 ...     2    5    4    4    4\n",
       "248   6   5   3   1   4 ...     6    6    1    2    2\n",
       "249   3   3   6   7   6 ...     5    4    5    5    3\n",
       "250   7   6   3   3   4 ...     5    5    5    3    6\n",
       "\n",
       "[250 rows x 62 columns]"
      ]
     },
     "execution_count": 3,
     "metadata": {},
     "output_type": "execute_result"
    }
   ],
   "source": [
    "df"
   ]
  },
  {
   "cell_type": "markdown",
   "metadata": {},
   "source": [
    "## Checking for NaN"
   ]
  },
  {
   "cell_type": "code",
   "execution_count": 4,
   "metadata": {
    "collapsed": false,
    "scrolled": true
   },
   "outputs": [
    {
     "name": "stdout",
     "output_type": "stream",
     "text": [
      "<class 'pandas.core.frame.DataFrame'>\n",
      "Int64Index: 250 entries, 1 to 250\n",
      "Data columns (total 62 columns):\n",
      "Q1     250 non-null int64\n",
      "Q2     250 non-null int64\n",
      "Q3     250 non-null int64\n",
      "Q4     250 non-null int64\n",
      "Q5     250 non-null int64\n",
      "Q6     250 non-null int64\n",
      "Q7     250 non-null int64\n",
      "Q8     250 non-null int64\n",
      "Q9     250 non-null int64\n",
      "Q10    250 non-null int64\n",
      "Q11    250 non-null int64\n",
      "Q12    250 non-null int64\n",
      "Q13    250 non-null int64\n",
      "Q14    250 non-null int64\n",
      "Q15    250 non-null int64\n",
      "Q16    250 non-null int64\n",
      "Q17    250 non-null int64\n",
      "Q18    250 non-null int64\n",
      "Q19    250 non-null int64\n",
      "Q20    250 non-null int64\n",
      "Q21    250 non-null int64\n",
      "Q22    250 non-null int64\n",
      "Q23    250 non-null int64\n",
      "Q24    250 non-null int64\n",
      "Q25    250 non-null int64\n",
      "Q26    250 non-null int64\n",
      "Q27    250 non-null int64\n",
      "Q28    250 non-null int64\n",
      "Q29    250 non-null int64\n",
      "Q30    250 non-null int64\n",
      "Q31    250 non-null int64\n",
      "Q32    250 non-null int64\n",
      "Q33    250 non-null int64\n",
      "Q34    250 non-null int64\n",
      "Q35    250 non-null int64\n",
      "Q36    250 non-null int64\n",
      "Q37    250 non-null int64\n",
      "Q38    250 non-null int64\n",
      "Q39    250 non-null int64\n",
      "Q40    250 non-null int64\n",
      "Q41    250 non-null int64\n",
      "Q42    250 non-null int64\n",
      "Q43    250 non-null int64\n",
      "Q44    250 non-null int64\n",
      "Q45    250 non-null int64\n",
      "Q46    250 non-null int64\n",
      "Q47    250 non-null int64\n",
      "Q48    250 non-null int64\n",
      "Q49    250 non-null int64\n",
      "Q50    250 non-null int64\n",
      "Q51    250 non-null int64\n",
      "Q52    250 non-null int64\n",
      "Q53    250 non-null int64\n",
      "Q54    250 non-null int64\n",
      "Q55    250 non-null int64\n",
      "Q56    250 non-null int64\n",
      "Q57    250 non-null int64\n",
      "Q58    250 non-null int64\n",
      "Q59    250 non-null int64\n",
      "Q60    250 non-null int64\n",
      "Q61    250 non-null int64\n",
      "Q62    250 non-null int64\n",
      "dtypes: int64(62)\n",
      "memory usage: 123.0 KB\n"
     ]
    }
   ],
   "source": [
    "# TODO\n",
    "df.info()"
   ]
  },
  {
   "cell_type": "markdown",
   "metadata": {},
   "source": [
    "## Center and scale"
   ]
  },
  {
   "cell_type": "markdown",
   "metadata": {},
   "source": [
    "62 attitudinal questions on a 7-point scale: 1 = strongly disagree; 4 = neigher disagree nor agree; 7 = strongly agree"
   ]
  },
  {
   "cell_type": "code",
   "execution_count": 12,
   "metadata": {
    "collapsed": false
   },
   "outputs": [
    {
     "data": {
      "text/html": [
       "<div>\n",
       "<table border=\"1\" class=\"dataframe\">\n",
       "  <thead>\n",
       "    <tr style=\"text-align: right;\">\n",
       "      <th></th>\n",
       "      <th>Q1</th>\n",
       "      <th>Q2</th>\n",
       "      <th>Q3</th>\n",
       "      <th>Q4</th>\n",
       "      <th>Q5</th>\n",
       "      <th>...</th>\n",
       "      <th>Q58</th>\n",
       "      <th>Q59</th>\n",
       "      <th>Q60</th>\n",
       "      <th>Q61</th>\n",
       "      <th>Q62</th>\n",
       "    </tr>\n",
       "    <tr>\n",
       "      <th>id</th>\n",
       "      <th></th>\n",
       "      <th></th>\n",
       "      <th></th>\n",
       "      <th></th>\n",
       "      <th></th>\n",
       "      <th></th>\n",
       "      <th></th>\n",
       "      <th></th>\n",
       "      <th></th>\n",
       "      <th></th>\n",
       "      <th></th>\n",
       "    </tr>\n",
       "  </thead>\n",
       "  <tbody>\n",
       "    <tr>\n",
       "      <th>1</th>\n",
       "      <td>0.666667</td>\n",
       "      <td>-0.666667</td>\n",
       "      <td>0.000000</td>\n",
       "      <td>-0.333333</td>\n",
       "      <td>-1.000000</td>\n",
       "      <td>...</td>\n",
       "      <td>-0.333333</td>\n",
       "      <td>0.000000</td>\n",
       "      <td>0.000000</td>\n",
       "      <td>0.000000</td>\n",
       "      <td>-0.666667</td>\n",
       "    </tr>\n",
       "    <tr>\n",
       "      <th>2</th>\n",
       "      <td>1.000000</td>\n",
       "      <td>1.000000</td>\n",
       "      <td>1.000000</td>\n",
       "      <td>0.333333</td>\n",
       "      <td>0.000000</td>\n",
       "      <td>...</td>\n",
       "      <td>0.000000</td>\n",
       "      <td>-0.333333</td>\n",
       "      <td>0.333333</td>\n",
       "      <td>0.000000</td>\n",
       "      <td>0.333333</td>\n",
       "    </tr>\n",
       "    <tr>\n",
       "      <th>3</th>\n",
       "      <td>0.333333</td>\n",
       "      <td>0.000000</td>\n",
       "      <td>0.666667</td>\n",
       "      <td>0.333333</td>\n",
       "      <td>1.000000</td>\n",
       "      <td>...</td>\n",
       "      <td>0.000000</td>\n",
       "      <td>0.333333</td>\n",
       "      <td>-0.333333</td>\n",
       "      <td>0.000000</td>\n",
       "      <td>0.000000</td>\n",
       "    </tr>\n",
       "    <tr>\n",
       "      <th>4</th>\n",
       "      <td>0.000000</td>\n",
       "      <td>-0.666667</td>\n",
       "      <td>0.333333</td>\n",
       "      <td>0.000000</td>\n",
       "      <td>-0.666667</td>\n",
       "      <td>...</td>\n",
       "      <td>-0.666667</td>\n",
       "      <td>0.333333</td>\n",
       "      <td>0.333333</td>\n",
       "      <td>0.333333</td>\n",
       "      <td>-0.333333</td>\n",
       "    </tr>\n",
       "    <tr>\n",
       "      <th>5</th>\n",
       "      <td>0.333333</td>\n",
       "      <td>0.333333</td>\n",
       "      <td>1.000000</td>\n",
       "      <td>0.666667</td>\n",
       "      <td>1.000000</td>\n",
       "      <td>...</td>\n",
       "      <td>0.333333</td>\n",
       "      <td>0.000000</td>\n",
       "      <td>-0.333333</td>\n",
       "      <td>0.000000</td>\n",
       "      <td>0.333333</td>\n",
       "    </tr>\n",
       "    <tr>\n",
       "      <th>...</th>\n",
       "      <td>...</td>\n",
       "      <td>...</td>\n",
       "      <td>...</td>\n",
       "      <td>...</td>\n",
       "      <td>...</td>\n",
       "      <td>...</td>\n",
       "      <td>...</td>\n",
       "      <td>...</td>\n",
       "      <td>...</td>\n",
       "      <td>...</td>\n",
       "      <td>...</td>\n",
       "    </tr>\n",
       "    <tr>\n",
       "      <th>246</th>\n",
       "      <td>0.666667</td>\n",
       "      <td>1.000000</td>\n",
       "      <td>0.333333</td>\n",
       "      <td>0.333333</td>\n",
       "      <td>-0.333333</td>\n",
       "      <td>...</td>\n",
       "      <td>0.333333</td>\n",
       "      <td>-0.666667</td>\n",
       "      <td>-0.333333</td>\n",
       "      <td>0.000000</td>\n",
       "      <td>0.333333</td>\n",
       "    </tr>\n",
       "    <tr>\n",
       "      <th>247</th>\n",
       "      <td>0.000000</td>\n",
       "      <td>-0.333333</td>\n",
       "      <td>0.666667</td>\n",
       "      <td>1.000000</td>\n",
       "      <td>0.666667</td>\n",
       "      <td>...</td>\n",
       "      <td>-0.666667</td>\n",
       "      <td>0.333333</td>\n",
       "      <td>0.000000</td>\n",
       "      <td>0.000000</td>\n",
       "      <td>0.000000</td>\n",
       "    </tr>\n",
       "    <tr>\n",
       "      <th>248</th>\n",
       "      <td>0.666667</td>\n",
       "      <td>0.333333</td>\n",
       "      <td>-0.333333</td>\n",
       "      <td>-1.000000</td>\n",
       "      <td>0.000000</td>\n",
       "      <td>...</td>\n",
       "      <td>0.666667</td>\n",
       "      <td>0.666667</td>\n",
       "      <td>-1.000000</td>\n",
       "      <td>-0.666667</td>\n",
       "      <td>-0.666667</td>\n",
       "    </tr>\n",
       "    <tr>\n",
       "      <th>249</th>\n",
       "      <td>-0.333333</td>\n",
       "      <td>-0.333333</td>\n",
       "      <td>0.666667</td>\n",
       "      <td>1.000000</td>\n",
       "      <td>0.666667</td>\n",
       "      <td>...</td>\n",
       "      <td>0.333333</td>\n",
       "      <td>0.000000</td>\n",
       "      <td>0.333333</td>\n",
       "      <td>0.333333</td>\n",
       "      <td>-0.333333</td>\n",
       "    </tr>\n",
       "    <tr>\n",
       "      <th>250</th>\n",
       "      <td>1.000000</td>\n",
       "      <td>0.666667</td>\n",
       "      <td>-0.333333</td>\n",
       "      <td>-0.333333</td>\n",
       "      <td>0.000000</td>\n",
       "      <td>...</td>\n",
       "      <td>0.333333</td>\n",
       "      <td>0.333333</td>\n",
       "      <td>0.333333</td>\n",
       "      <td>-0.333333</td>\n",
       "      <td>0.666667</td>\n",
       "    </tr>\n",
       "  </tbody>\n",
       "</table>\n",
       "<p>250 rows × 62 columns</p>\n",
       "</div>"
      ],
      "text/plain": [
       "           Q1        Q2        Q3        Q4        Q5    ...          Q58  \\\n",
       "id                                                       ...                \n",
       "1    0.666667 -0.666667  0.000000 -0.333333 -1.000000    ...    -0.333333   \n",
       "2    1.000000  1.000000  1.000000  0.333333  0.000000    ...     0.000000   \n",
       "3    0.333333  0.000000  0.666667  0.333333  1.000000    ...     0.000000   \n",
       "4    0.000000 -0.666667  0.333333  0.000000 -0.666667    ...    -0.666667   \n",
       "5    0.333333  0.333333  1.000000  0.666667  1.000000    ...     0.333333   \n",
       "..        ...       ...       ...       ...       ...    ...          ...   \n",
       "246  0.666667  1.000000  0.333333  0.333333 -0.333333    ...     0.333333   \n",
       "247  0.000000 -0.333333  0.666667  1.000000  0.666667    ...    -0.666667   \n",
       "248  0.666667  0.333333 -0.333333 -1.000000  0.000000    ...     0.666667   \n",
       "249 -0.333333 -0.333333  0.666667  1.000000  0.666667    ...     0.333333   \n",
       "250  1.000000  0.666667 -0.333333 -0.333333  0.000000    ...     0.333333   \n",
       "\n",
       "          Q59       Q60       Q61       Q62  \n",
       "id                                           \n",
       "1    0.000000  0.000000  0.000000 -0.666667  \n",
       "2   -0.333333  0.333333  0.000000  0.333333  \n",
       "3    0.333333 -0.333333  0.000000  0.000000  \n",
       "4    0.333333  0.333333  0.333333 -0.333333  \n",
       "5    0.000000 -0.333333  0.000000  0.333333  \n",
       "..        ...       ...       ...       ...  \n",
       "246 -0.666667 -0.333333  0.000000  0.333333  \n",
       "247  0.333333  0.000000  0.000000  0.000000  \n",
       "248  0.666667 -1.000000 -0.666667 -0.666667  \n",
       "249  0.000000  0.333333  0.333333 -0.333333  \n",
       "250  0.333333  0.333333 -0.333333  0.666667  \n",
       "\n",
       "[250 rows x 62 columns]"
      ]
     },
     "execution_count": 12,
     "metadata": {},
     "output_type": "execute_result"
    }
   ],
   "source": [
    "# TODO\n",
    "dfscale = (df-4)/3\n",
    "dfscale"
   ]
  },
  {
   "cell_type": "code",
   "execution_count": 9,
   "metadata": {
    "collapsed": false
   },
   "outputs": [
    {
     "data": {
      "text/html": [
       "<div>\n",
       "<table border=\"1\" class=\"dataframe\">\n",
       "  <thead>\n",
       "    <tr style=\"text-align: right;\">\n",
       "      <th></th>\n",
       "      <th>0</th>\n",
       "      <th>1</th>\n",
       "      <th>2</th>\n",
       "      <th>3</th>\n",
       "      <th>4</th>\n",
       "      <th>...</th>\n",
       "      <th>57</th>\n",
       "      <th>58</th>\n",
       "      <th>59</th>\n",
       "      <th>60</th>\n",
       "      <th>61</th>\n",
       "    </tr>\n",
       "  </thead>\n",
       "  <tbody>\n",
       "    <tr>\n",
       "      <th>0</th>\n",
       "      <td>0.666667</td>\n",
       "      <td>-0.666667</td>\n",
       "      <td>0.000000</td>\n",
       "      <td>-0.333333</td>\n",
       "      <td>-1.000000</td>\n",
       "      <td>...</td>\n",
       "      <td>-0.333333</td>\n",
       "      <td>0.000000</td>\n",
       "      <td>0.000000</td>\n",
       "      <td>0.000000</td>\n",
       "      <td>-0.666667</td>\n",
       "    </tr>\n",
       "    <tr>\n",
       "      <th>1</th>\n",
       "      <td>1.000000</td>\n",
       "      <td>1.000000</td>\n",
       "      <td>1.000000</td>\n",
       "      <td>0.333333</td>\n",
       "      <td>0.000000</td>\n",
       "      <td>...</td>\n",
       "      <td>0.000000</td>\n",
       "      <td>-0.333333</td>\n",
       "      <td>0.333333</td>\n",
       "      <td>0.000000</td>\n",
       "      <td>0.333333</td>\n",
       "    </tr>\n",
       "    <tr>\n",
       "      <th>2</th>\n",
       "      <td>0.333333</td>\n",
       "      <td>0.000000</td>\n",
       "      <td>0.666667</td>\n",
       "      <td>0.333333</td>\n",
       "      <td>1.000000</td>\n",
       "      <td>...</td>\n",
       "      <td>0.000000</td>\n",
       "      <td>0.333333</td>\n",
       "      <td>-0.333333</td>\n",
       "      <td>0.000000</td>\n",
       "      <td>0.000000</td>\n",
       "    </tr>\n",
       "    <tr>\n",
       "      <th>3</th>\n",
       "      <td>0.000000</td>\n",
       "      <td>-0.666667</td>\n",
       "      <td>0.333333</td>\n",
       "      <td>0.000000</td>\n",
       "      <td>-0.666667</td>\n",
       "      <td>...</td>\n",
       "      <td>-0.666667</td>\n",
       "      <td>0.333333</td>\n",
       "      <td>0.333333</td>\n",
       "      <td>0.333333</td>\n",
       "      <td>-0.333333</td>\n",
       "    </tr>\n",
       "    <tr>\n",
       "      <th>4</th>\n",
       "      <td>0.333333</td>\n",
       "      <td>0.333333</td>\n",
       "      <td>1.000000</td>\n",
       "      <td>0.666667</td>\n",
       "      <td>1.000000</td>\n",
       "      <td>...</td>\n",
       "      <td>0.333333</td>\n",
       "      <td>0.000000</td>\n",
       "      <td>-0.333333</td>\n",
       "      <td>0.000000</td>\n",
       "      <td>0.333333</td>\n",
       "    </tr>\n",
       "    <tr>\n",
       "      <th>...</th>\n",
       "      <td>...</td>\n",
       "      <td>...</td>\n",
       "      <td>...</td>\n",
       "      <td>...</td>\n",
       "      <td>...</td>\n",
       "      <td>...</td>\n",
       "      <td>...</td>\n",
       "      <td>...</td>\n",
       "      <td>...</td>\n",
       "      <td>...</td>\n",
       "      <td>...</td>\n",
       "    </tr>\n",
       "    <tr>\n",
       "      <th>245</th>\n",
       "      <td>0.666667</td>\n",
       "      <td>1.000000</td>\n",
       "      <td>0.333333</td>\n",
       "      <td>0.333333</td>\n",
       "      <td>-0.333333</td>\n",
       "      <td>...</td>\n",
       "      <td>0.333333</td>\n",
       "      <td>-0.666667</td>\n",
       "      <td>-0.333333</td>\n",
       "      <td>0.000000</td>\n",
       "      <td>0.333333</td>\n",
       "    </tr>\n",
       "    <tr>\n",
       "      <th>246</th>\n",
       "      <td>0.000000</td>\n",
       "      <td>-0.333333</td>\n",
       "      <td>0.666667</td>\n",
       "      <td>1.000000</td>\n",
       "      <td>0.666667</td>\n",
       "      <td>...</td>\n",
       "      <td>-0.666667</td>\n",
       "      <td>0.333333</td>\n",
       "      <td>0.000000</td>\n",
       "      <td>0.000000</td>\n",
       "      <td>0.000000</td>\n",
       "    </tr>\n",
       "    <tr>\n",
       "      <th>247</th>\n",
       "      <td>0.666667</td>\n",
       "      <td>0.333333</td>\n",
       "      <td>-0.333333</td>\n",
       "      <td>-1.000000</td>\n",
       "      <td>0.000000</td>\n",
       "      <td>...</td>\n",
       "      <td>0.666667</td>\n",
       "      <td>0.666667</td>\n",
       "      <td>-1.000000</td>\n",
       "      <td>-0.666667</td>\n",
       "      <td>-0.666667</td>\n",
       "    </tr>\n",
       "    <tr>\n",
       "      <th>248</th>\n",
       "      <td>-0.333333</td>\n",
       "      <td>-0.333333</td>\n",
       "      <td>0.666667</td>\n",
       "      <td>1.000000</td>\n",
       "      <td>0.666667</td>\n",
       "      <td>...</td>\n",
       "      <td>0.333333</td>\n",
       "      <td>0.000000</td>\n",
       "      <td>0.333333</td>\n",
       "      <td>0.333333</td>\n",
       "      <td>-0.333333</td>\n",
       "    </tr>\n",
       "    <tr>\n",
       "      <th>249</th>\n",
       "      <td>1.000000</td>\n",
       "      <td>0.666667</td>\n",
       "      <td>-0.333333</td>\n",
       "      <td>-0.333333</td>\n",
       "      <td>0.000000</td>\n",
       "      <td>...</td>\n",
       "      <td>0.333333</td>\n",
       "      <td>0.333333</td>\n",
       "      <td>0.333333</td>\n",
       "      <td>-0.333333</td>\n",
       "      <td>0.666667</td>\n",
       "    </tr>\n",
       "  </tbody>\n",
       "</table>\n",
       "<p>250 rows × 62 columns</p>\n",
       "</div>"
      ],
      "text/plain": [
       "           0         1         2         3         4     ...           57  \\\n",
       "0    0.666667 -0.666667  0.000000 -0.333333 -1.000000    ...    -0.333333   \n",
       "1    1.000000  1.000000  1.000000  0.333333  0.000000    ...     0.000000   \n",
       "2    0.333333  0.000000  0.666667  0.333333  1.000000    ...     0.000000   \n",
       "3    0.000000 -0.666667  0.333333  0.000000 -0.666667    ...    -0.666667   \n",
       "4    0.333333  0.333333  1.000000  0.666667  1.000000    ...     0.333333   \n",
       "..        ...       ...       ...       ...       ...    ...          ...   \n",
       "245  0.666667  1.000000  0.333333  0.333333 -0.333333    ...     0.333333   \n",
       "246  0.000000 -0.333333  0.666667  1.000000  0.666667    ...    -0.666667   \n",
       "247  0.666667  0.333333 -0.333333 -1.000000  0.000000    ...     0.666667   \n",
       "248 -0.333333 -0.333333  0.666667  1.000000  0.666667    ...     0.333333   \n",
       "249  1.000000  0.666667 -0.333333 -0.333333  0.000000    ...     0.333333   \n",
       "\n",
       "           58        59        60        61  \n",
       "0    0.000000  0.000000  0.000000 -0.666667  \n",
       "1   -0.333333  0.333333  0.000000  0.333333  \n",
       "2    0.333333 -0.333333  0.000000  0.000000  \n",
       "3    0.333333  0.333333  0.333333 -0.333333  \n",
       "4    0.000000 -0.333333  0.000000  0.333333  \n",
       "..        ...       ...       ...       ...  \n",
       "245 -0.666667 -0.333333  0.000000  0.333333  \n",
       "246  0.333333  0.000000  0.000000  0.000000  \n",
       "247  0.666667 -1.000000 -0.666667 -0.666667  \n",
       "248  0.000000  0.333333  0.333333 -0.333333  \n",
       "249  0.333333  0.333333 -0.333333  0.666667  \n",
       "\n",
       "[250 rows x 62 columns]"
      ]
     },
     "execution_count": 9,
     "metadata": {},
     "output_type": "execute_result"
    }
   ],
   "source": [
    "from sklearn.preprocessing import maxabs_scale\n",
    "pd.DataFrame(maxabs_scale(df))"
   ]
  },
  {
   "cell_type": "markdown",
   "metadata": {},
   "source": [
    "## Principal Component Analysis (PCA)"
   ]
  },
  {
   "cell_type": "markdown",
   "metadata": {},
   "source": [
    "http://scikit-learn.org/stable/modules/generated/sklearn.decomposition.PCA.html"
   ]
  },
  {
   "cell_type": "code",
   "execution_count": 13,
   "metadata": {
    "collapsed": false
   },
   "outputs": [],
   "source": [
    "# TODO\n",
    "X=dfscale"
   ]
  },
  {
   "cell_type": "code",
   "execution_count": 15,
   "metadata": {
    "collapsed": false
   },
   "outputs": [],
   "source": [
    "pca = decomposition.PCA().fit(X)"
   ]
  },
  {
   "cell_type": "code",
   "execution_count": 16,
   "metadata": {
    "collapsed": false
   },
   "outputs": [
    {
     "data": {
      "text/plain": [
       "62"
      ]
     },
     "execution_count": 16,
     "metadata": {},
     "output_type": "execute_result"
    }
   ],
   "source": [
    "pca.n_components_"
   ]
  },
  {
   "cell_type": "markdown",
   "metadata": {},
   "source": [
    "### Explained Variance"
   ]
  },
  {
   "cell_type": "code",
   "execution_count": 17,
   "metadata": {
    "collapsed": false
   },
   "outputs": [],
   "source": [
    "normalized_eigenvalues = pca.explained_variance_ratio_"
   ]
  },
  {
   "cell_type": "code",
   "execution_count": 18,
   "metadata": {
    "collapsed": false,
    "scrolled": true
   },
   "outputs": [
    {
     "data": {
      "text/plain": [
       "array([ 0.34307738,  0.17691961,  0.09244568,  0.01479303,  0.01348088,\n",
       "        0.01287346,  0.01252905,  0.01229448,  0.0116312 ,  0.01155003,\n",
       "        0.01141081,  0.01088612,  0.01065068,  0.01023675,  0.00980565,\n",
       "        0.00970013,  0.00935484,  0.00912774,  0.00890327,  0.0085995 ,\n",
       "        0.00841132,  0.0082796 ,  0.00811105,  0.00776238,  0.00758853,\n",
       "        0.00740232,  0.00694244,  0.00668767,  0.00654599,  0.0065302 ,\n",
       "        0.00634308,  0.00614083,  0.00605071,  0.00577515,  0.00561425,\n",
       "        0.00548123,  0.0053805 ,  0.00487332,  0.00483682,  0.00474037,\n",
       "        0.00466974,  0.00447012,  0.004349  ,  0.00418052,  0.00401993,\n",
       "        0.00395991,  0.00387482,  0.00370367,  0.00361474,  0.00342931,\n",
       "        0.00328957,  0.00294592,  0.00286619,  0.00283253,  0.00277463,\n",
       "        0.00262121,  0.00246656,  0.00231566,  0.00216999,  0.00197679,\n",
       "        0.00192215,  0.00177897])"
      ]
     },
     "execution_count": 18,
     "metadata": {},
     "output_type": "execute_result"
    }
   ],
   "source": [
    "normalized_eigenvalues"
   ]
  },
  {
   "cell_type": "code",
   "execution_count": 19,
   "metadata": {
    "collapsed": false
   },
   "outputs": [
    {
     "data": {
      "text/plain": [
       "0.99999999999999978"
      ]
     },
     "execution_count": 19,
     "metadata": {},
     "output_type": "execute_result"
    }
   ],
   "source": [
    "normalized_eigenvalues.sum()"
   ]
  },
  {
   "cell_type": "markdown",
   "metadata": {},
   "source": [
    "### Scree plot"
   ]
  },
  {
   "cell_type": "code",
   "execution_count": 24,
   "metadata": {
    "collapsed": false
   },
   "outputs": [
    {
     "data": {
      "text/plain": [
       "(-0.01, 0.35307737877240186)"
      ]
     },
     "execution_count": 24,
     "metadata": {},
     "output_type": "execute_result"
    },
    {
     "data": {
      "image/png": "[encoded data removed]",
      "text/plain": [
       "<matplotlib.figure.Figure at 0x114f89320>"
      ]
     },
     "metadata": {},
     "output_type": "display_data"
    }
   ],
   "source": [
    "plt.plot(normalized_eigenvalues)\n",
    "\n",
    "plt.scatter(x = range(len(normalized_eigenvalues)),\n",
    "    y = normalized_eigenvalues,\n",
    "    marker = '+',\n",
    "    s = 100)\n",
    "\n",
    "plt.ylabel('Explained Variance')\n",
    "plt.xlabel('Principal Component')\n",
    "plt.xlim(-1, len(normalized_eigenvalues))\n",
    "plt.ylim(-.01, max(normalized_eigenvalues) + .01)"
   ]
  },
  {
   "cell_type": "code",
   "execution_count": 21,
   "metadata": {
    "collapsed": false
   },
   "outputs": [],
   "source": [
    "cumulated_normalized_eigenvalues = np.cumsum(normalized_eigenvalues)"
   ]
  },
  {
   "cell_type": "code",
   "execution_count": 22,
   "metadata": {
    "collapsed": false
   },
   "outputs": [
    {
     "data": {
      "text/plain": [
       "array([ 0.34307738,  0.51999699,  0.61244267,  0.6272357 ,  0.64071659,\n",
       "        0.65359004,  0.66611909,  0.67841357,  0.69004477,  0.7015948 ,\n",
       "        0.71300561,  0.72389173,  0.73454241,  0.74477916,  0.75458481,\n",
       "        0.76428494,  0.77363979,  0.78276753,  0.79167079,  0.8002703 ,\n",
       "        0.80868162,  0.81696122,  0.82507227,  0.83283465,  0.84042318,\n",
       "        0.8478255 ,  0.85476794,  0.86145561,  0.8680016 ,  0.87453181,\n",
       "        0.88087488,  0.88701572,  0.89306643,  0.89884158,  0.90445583,\n",
       "        0.90993706,  0.91531756,  0.92019088,  0.9250277 ,  0.92976807,\n",
       "        0.93443781,  0.93890794,  0.94325694,  0.94743745,  0.95145738,\n",
       "        0.9554173 ,  0.95929212,  0.96299579,  0.96661053,  0.97003984,\n",
       "        0.97332941,  0.97627533,  0.97914152,  0.98197405,  0.98474868,\n",
       "        0.98736989,  0.98983645,  0.9921521 ,  0.99432209,  0.99629887,\n",
       "        0.99822103,  1.        ])"
      ]
     },
     "execution_count": 22,
     "metadata": {},
     "output_type": "execute_result"
    }
   ],
   "source": [
    "cumulated_normalized_eigenvalues"
   ]
  },
  {
   "cell_type": "code",
   "execution_count": 23,
   "metadata": {
    "collapsed": false
   },
   "outputs": [
    {
     "data": {
      "text/plain": [
       "[<matplotlib.lines.Line2D at 0x114fbd2b0>]"
      ]
     },
     "execution_count": 23,
     "metadata": {},
     "output_type": "execute_result"
    },
    {
     "data": {
      "image/png": "[encoded data removed]",
      "text/plain": [
       "<matplotlib.figure.Figure at 0x114f4d160>"
      ]
     },
     "metadata": {},
     "output_type": "display_data"
    }
   ],
   "source": [
    "plt.plot(cumulated_normalized_eigenvalues)"
   ]
  },
  {
   "cell_type": "markdown",
   "metadata": {},
   "source": [
    "### Principal Components/Eigenvectors"
   ]
  },
  {
   "cell_type": "code",
   "execution_count": 25,
   "metadata": {
    "collapsed": false
   },
   "outputs": [
    {
     "data": {
      "text/plain": [
       "array([[ 0.12577537,  0.2491406 , -0.03645547, ...,  0.05007606,\n",
       "         0.07448159,  0.05265921],\n",
       "       [-0.05696789,  0.0755372 ,  0.17052116, ...,  0.00357045,\n",
       "         0.02936008,  0.03368754],\n",
       "       [ 0.25562272,  0.15818743, -0.07256437, ..., -0.25369009,\n",
       "        -0.22075579, -0.20049613],\n",
       "       ..., \n",
       "       [-0.18300038,  0.10765282,  0.1692844 , ..., -0.05835726,\n",
       "        -0.03041397, -0.070239  ],\n",
       "       [ 0.03850797, -0.10657318,  0.06550309, ..., -0.12311425,\n",
       "         0.02999196, -0.09988279],\n",
       "       [-0.11051957, -0.00112376,  0.06794346, ...,  0.0230528 ,\n",
       "        -0.10056367, -0.07766536]])"
      ]
     },
     "execution_count": 25,
     "metadata": {},
     "output_type": "execute_result"
    }
   ],
   "source": [
    "pca.components_"
   ]
  },
  {
   "cell_type": "code",
   "execution_count": 26,
   "metadata": {
    "collapsed": false
   },
   "outputs": [
    {
     "data": {
      "text/plain": [
       "(62, 62)"
      ]
     },
     "execution_count": 26,
     "metadata": {},
     "output_type": "execute_result"
    }
   ],
   "source": [
    "pca.components_.shape"
   ]
  },
  {
   "cell_type": "markdown",
   "metadata": {},
   "source": [
    "### `n_components = 3`"
   ]
  },
  {
   "cell_type": "code",
   "execution_count": 30,
   "metadata": {
    "collapsed": false
   },
   "outputs": [
    {
     "data": {
      "text/plain": [
       "(3, 62)"
      ]
     },
     "execution_count": 30,
     "metadata": {},
     "output_type": "execute_result"
    }
   ],
   "source": [
    "X = df\n",
    "\n",
    "# TODO\n",
    "pca = decomposition.PCA(n_components=3).fit(X)\n",
    "pca.components_.shape"
   ]
  },
  {
   "cell_type": "code",
   "execution_count": 31,
   "metadata": {
    "collapsed": false
   },
   "outputs": [
    {
     "data": {
      "text/plain": [
       "(250, 3)"
      ]
     },
     "execution_count": 31,
     "metadata": {},
     "output_type": "execute_result"
    }
   ],
   "source": [
    "X = pca.transform(X)\n",
    "# TODO\n",
    "X.shape"
   ]
  },
  {
   "cell_type": "code",
   "execution_count": 32,
   "metadata": {
    "collapsed": true
   },
   "outputs": [],
   "source": [
    "eigenvector_0 = pca.components_[0]\n",
    "eigenvector_1 = pca.components_[1]\n",
    "eigenvector_2 = pca.components_[2]"
   ]
  },
  {
   "cell_type": "markdown",
   "metadata": {},
   "source": [
    "## k-Means"
   ]
  },
  {
   "cell_type": "markdown",
   "metadata": {},
   "source": [
    "### `n_clusters = 4`"
   ]
  },
  {
   "cell_type": "code",
   "execution_count": 62,
   "metadata": {
    "collapsed": false
   },
   "outputs": [
    {
     "data": {
      "image/png": "[encoded data removed]",
      "text/plain": [
       "<matplotlib.figure.Figure at 0x1168e4ef0>"
      ]
     },
     "metadata": {},
     "output_type": "display_data"
    }
   ],
   "source": [
    "model = cluster.KMeans(n_clusters = 4, random_state = 0).fit(X)\n",
    "\n",
    "cluster_ = pd.Series(model.labels_)\n",
    "\n",
    "color = cluster_.map({0: 'red', 1: 'green', 2: 'blue', 3: 'yellow'})  # map returns a generator\n",
    "\n",
    "_, axes = plt.subplots(1, 3, figsize = (16, 6))\n",
    "\n",
    "# TODO\n",
    "import itertools\n",
    "combs = list(itertools.combinations(range(len(axes)),2))\n",
    "for i in range(len(axes)):\n",
    "    axes[i].scatter(X[:,combs[i][0]], X[:,combs[i][1]], c=color)\n",
    "    axes[i].set_xlabel('PC {0}'.format(combs[i][0]))\n",
    "    axes[i].set_ylabel('PC {0}'.format(combs[i][1]))"
   ]
  },
  {
   "cell_type": "code",
   "execution_count": 53,
   "metadata": {
    "collapsed": false
   },
   "outputs": [
    {
     "data": {
      "text/plain": [
       "0    78\n",
       "1    75\n",
       "3    65\n",
       "2    32\n",
       "dtype: int64"
      ]
     },
     "execution_count": 53,
     "metadata": {},
     "output_type": "execute_result"
    }
   ],
   "source": [
    "cluster_.value_counts()"
   ]
  },
  {
   "cell_type": "code",
   "execution_count": 54,
   "metadata": {
    "collapsed": false
   },
   "outputs": [],
   "source": [
    "centroid_78 = pd.Series(pca.inverse_transform(model.cluster_centers_[0]))\n",
    "centroid_75 = pd.Series(pca.inverse_transform(model.cluster_centers_[1]))\n",
    "centroid_65 = pd.Series(pca.inverse_transform(model.cluster_centers_[2]))\n",
    "centroid_32 = pd.Series(pca.inverse_transform(model.cluster_centers_[3]))"
   ]
  },
  {
   "cell_type": "markdown",
   "metadata": {},
   "source": [
    "## Survey Questions"
   ]
  },
  {
   "cell_type": "code",
   "execution_count": 55,
   "metadata": {
    "collapsed": false
   },
   "outputs": [
    {
     "data": {
      "text/plain": [
       "0                           I want a car that is trendy\n",
       "1                                I am fashion conscious\n",
       "2     I do not have the time to worry about car main...\n",
       "3                    Basic transportation is all I need\n",
       "4                        Small cars are not prestigious\n",
       "                            ...                        \n",
       "57    For me a car is a symbol of freedom and indepe...\n",
       "58                   I am interested in car maintenance\n",
       "59    When buying a car I only consider a national make\n",
       "60    The government should implement policies that ...\n",
       "61    The government is right to tax large cars more...\n",
       "dtype: object"
      ]
     },
     "execution_count": 55,
     "metadata": {},
     "output_type": "execute_result"
    }
   ],
   "source": [
    "questions = '''I want a car that is trendy\n",
    "I am fashion conscious\n",
    "I do not have the time to worry about car maintenance\n",
    "Basic transportation is all I need\n",
    "Small cars are not prestigious\n",
    "Today's cars last much longer than yesterday's\n",
    "My car must function with total reliability\n",
    "I want a car that is easy to handle\n",
    "I am looking for a car which delivers a smooth ride\n",
    "When I buy a car, dependability is most important to me\n",
    "Today's cars are more efficient than yesterday's\n",
    "I want a car that is fuel economic\n",
    "I love to drive\n",
    "The car I buy must be able to handle long motorway journeys\n",
    "I want the most equipment I can get for my money\n",
    "I want a vehicle that is environmentally friendly\n",
    "I want a car that is nippy and zippy\n",
    "I prefer buying my next car from the same car manufacturer\n",
    "I wish there were stricter exhaust regulations\n",
    "One should not spend beyond ones means\n",
    "Good aerodynamics help fuel economy\n",
    "Small cars are much safer nowadays\n",
    "Buying a car on a lower interest rate does not interest me\n",
    "I want a car that drives well on country roads\n",
    "I consider myself an authority on cars\n",
    "Small cars are for kids\n",
    "Small cars are for women\n",
    "Domestic made is best made\n",
    "A car is a fashion accessory to me\n",
    "Having a masculine car is important to me\n",
    "I want a comfortable car\n",
    "City driving is my main concern\n",
    "Fuel economy comes at the expense of performance\n",
    "I want a practical car\n",
    "I have always been fascinated by cars which have a cult following\n",
    "I like to believe that the car I drive will one day become a cult car\n",
    "I prefer cars with high performance\n",
    "I do not believe that a Swatch branded car will be successful\n",
    "Small cars take up less room in today's traffic\n",
    "I prefer small cars\n",
    "In today's world it is anti-social to drive big cars\n",
    "Many manufacturers do not really care about their customers needs\n",
    "I would rather deal with a manufacturer's rep than a salesperson\n",
    "I want to buy a car that makes a statement about me\n",
    "A car is an extension of oneself\n",
    "I always want the latest style and design in a vehicle\n",
    "When it comes to cars my heart rules my head\n",
    "My car must have a very individual interior\n",
    "Nowadays smart cars are mainly foreign brands\n",
    "People ought to buy domestic products for the good of the country\n",
    "I want a car equipped with the latest features and technology\n",
    "I have a relationship with my car\n",
    "Quality and reliability of products are my main concerns\n",
    "Image is not important to me in a car\n",
    "Cars all look the same these days\n",
    "Most environmentally friendly products do not perform as well as those they replaced\n",
    "I want a car that has character\n",
    "For me a car is a symbol of freedom and independence\n",
    "I am interested in car maintenance\n",
    "When buying a car I only consider a national make\n",
    "The government should implement policies that favor public transportation\n",
    "The government is right to tax large cars more heavily than small cars'''\n",
    "\n",
    "questions = pd.Series(questions.splitlines())\n",
    "\n",
    "questions"
   ]
  },
  {
   "cell_type": "code",
   "execution_count": 150,
   "metadata": {
    "collapsed": false
   },
   "outputs": [],
   "source": [
    "def interpret(v):\n",
    "    serraw = pd.Series(v).sort_values(ascending=False)\n",
    "    ser = pd.Series(abs(v)).sort_values(ascending=False) # magnitude of loadings\n",
    "    print('Most important questions')\n",
    "    print()\n",
    "    for idx,i in enumerate(questions.iloc[ser.index[:5]]):\n",
    "        print('{0:.3f}'.format(serraw.loc[ser.index[idx]]),ser.index[idx],i)\n",
    "    print()\n",
    "    print('Least important questions')\n",
    "    print()\n",
    "    for idx,i in enumerate(questions.iloc[ser.index[-5:]]):\n",
    "        print('{0:.3f}'.format(serraw.loc[ser.index[-1*(idx+1)]]),ser.index[-(idx+1)],i)\n",
    "    return\n",
    "    # TODO"
   ]
  },
  {
   "cell_type": "markdown",
   "metadata": {},
   "source": [
    "### Interpreting the principal components"
   ]
  },
  {
   "cell_type": "code",
   "execution_count": 151,
   "metadata": {
    "collapsed": false
   },
   "outputs": [
    {
     "name": "stdout",
     "output_type": "stream",
     "text": [
      "Most important questions\n",
      "\n",
      "-0.278 13 The car I buy must be able to handle long motorway journeys\n",
      "0.252 40 In today's world it is anti-social to drive big cars\n",
      "0.249 1 I am fashion conscious\n",
      "0.242 22 Buying a car on a lower interest rate does not interest me\n",
      "-0.241 30 I want a comfortable car\n",
      "\n",
      "Least important questions\n",
      "\n",
      "-0.003 5 Today's cars are more efficient than yesterday's\n",
      "-0.005 11 Basic transportation is all I need\n",
      "-0.005 12 I love to drive\n",
      "0.011 3 I want a car that is fuel economic\n",
      "0.011 10 Today's cars last much longer than yesterday's\n"
     ]
    }
   ],
   "source": [
    "interpret(eigenvector_0)"
   ]
  },
  {
   "cell_type": "code",
   "execution_count": 155,
   "metadata": {
    "collapsed": false
   },
   "outputs": [
    {
     "data": {
      "text/plain": [
       "<matplotlib.axes._subplots.AxesSubplot at 0x11809e1d0>"
      ]
     },
     "execution_count": 155,
     "metadata": {},
     "output_type": "execute_result"
    },
    {
     "data": {
      "image/png": "[encoded data removed]",
      "text/plain": [
       "<matplotlib.figure.Figure at 0x117faaf98>"
      ]
     },
     "metadata": {},
     "output_type": "display_data"
    }
   ],
   "source": [
    "f, axes = plt.subplots(2,2, figsize=(12,8))\n",
    "bins = np.arange(0.5,7.5,1)\n",
    "df.Q13.hist(bins=bins, ax=axes[0][0])\n",
    "df.Q30.hist(bins=bins, ax=axes[0][1])\n",
    "df.Q5.hist(bins=bins, ax=axes[1][0])\n",
    "df.Q11.hist(bins=bins, ax=axes[1][1])"
   ]
  },
  {
   "cell_type": "code",
   "execution_count": 107,
   "metadata": {
    "collapsed": false
   },
   "outputs": [
    {
     "name": "stdout",
     "output_type": "stream",
     "text": [
      "Most important questions\n",
      "\n",
      "I want a car that is nippy and zippy\n",
      "Small cars are not prestigious\n",
      "I want to buy a car that makes a statement about me\n",
      "Basic transportation is all I need\n",
      "I want a comfortable car\n",
      "\n",
      "Least important questions\n",
      "\n",
      "When buying a car I only consider a national make\n",
      "I have a relationship with my car\n",
      "I want a car that is fuel economic\n",
      "When it comes to cars my heart rules my head\n",
      "Today's cars last much longer than yesterday's\n"
     ]
    }
   ],
   "source": [
    "interpret(eigenvector_1)"
   ]
  },
  {
   "cell_type": "code",
   "execution_count": 108,
   "metadata": {
    "collapsed": false
   },
   "outputs": [
    {
     "name": "stdout",
     "output_type": "stream",
     "text": [
      "Most important questions\n",
      "\n",
      "Basic transportation is all I need\n",
      "I want a car that is trendy\n",
      "When buying a car I only consider a national make\n",
      "For me a car is a symbol of freedom and independence\n",
      "I want a car that has character\n",
      "\n",
      "Least important questions\n",
      "\n",
      "When it comes to cars my heart rules my head\n",
      "I am looking for a car which delivers a smooth ride\n",
      "Most environmentally friendly products do not perform as well as those they replaced\n",
      "I want a car equipped with the latest features and technology\n",
      "Today's cars are more efficient than yesterday's\n"
     ]
    }
   ],
   "source": [
    "interpret(eigenvector_2)"
   ]
  },
  {
   "cell_type": "markdown",
   "metadata": {},
   "source": [
    "### Interpreting the clusters (that's the market segmentation)"
   ]
  },
  {
   "cell_type": "code",
   "execution_count": 174,
   "metadata": {
    "collapsed": false
   },
   "outputs": [
    {
     "name": "stdout",
     "output_type": "stream",
     "text": [
      "(250, 63)\n"
     ]
    },
    {
     "data": {
      "text/html": [
       "<div>\n",
       "<table border=\"1\" class=\"dataframe\">\n",
       "  <thead>\n",
       "    <tr style=\"text-align: right;\">\n",
       "      <th></th>\n",
       "      <th>Q1</th>\n",
       "      <th>Q2</th>\n",
       "      <th>Q3</th>\n",
       "      <th>Q4</th>\n",
       "      <th>Q5</th>\n",
       "      <th>...</th>\n",
       "      <th>Q59</th>\n",
       "      <th>Q60</th>\n",
       "      <th>Q61</th>\n",
       "      <th>Q62</th>\n",
       "      <th>cluster</th>\n",
       "    </tr>\n",
       "    <tr>\n",
       "      <th>id</th>\n",
       "      <th></th>\n",
       "      <th></th>\n",
       "      <th></th>\n",
       "      <th></th>\n",
       "      <th></th>\n",
       "      <th></th>\n",
       "      <th></th>\n",
       "      <th></th>\n",
       "      <th></th>\n",
       "      <th></th>\n",
       "      <th></th>\n",
       "    </tr>\n",
       "  </thead>\n",
       "  <tbody>\n",
       "    <tr>\n",
       "      <th>1</th>\n",
       "      <td>6</td>\n",
       "      <td>2</td>\n",
       "      <td>4</td>\n",
       "      <td>3</td>\n",
       "      <td>1</td>\n",
       "      <td>...</td>\n",
       "      <td>4</td>\n",
       "      <td>4</td>\n",
       "      <td>4</td>\n",
       "      <td>2</td>\n",
       "      <td>1</td>\n",
       "    </tr>\n",
       "    <tr>\n",
       "      <th>2</th>\n",
       "      <td>7</td>\n",
       "      <td>7</td>\n",
       "      <td>7</td>\n",
       "      <td>5</td>\n",
       "      <td>4</td>\n",
       "      <td>...</td>\n",
       "      <td>3</td>\n",
       "      <td>5</td>\n",
       "      <td>4</td>\n",
       "      <td>5</td>\n",
       "      <td>0</td>\n",
       "    </tr>\n",
       "    <tr>\n",
       "      <th>3</th>\n",
       "      <td>5</td>\n",
       "      <td>4</td>\n",
       "      <td>6</td>\n",
       "      <td>5</td>\n",
       "      <td>7</td>\n",
       "      <td>...</td>\n",
       "      <td>5</td>\n",
       "      <td>3</td>\n",
       "      <td>4</td>\n",
       "      <td>4</td>\n",
       "      <td>3</td>\n",
       "    </tr>\n",
       "    <tr>\n",
       "      <th>4</th>\n",
       "      <td>4</td>\n",
       "      <td>2</td>\n",
       "      <td>5</td>\n",
       "      <td>4</td>\n",
       "      <td>2</td>\n",
       "      <td>...</td>\n",
       "      <td>5</td>\n",
       "      <td>5</td>\n",
       "      <td>5</td>\n",
       "      <td>3</td>\n",
       "      <td>1</td>\n",
       "    </tr>\n",
       "    <tr>\n",
       "      <th>5</th>\n",
       "      <td>5</td>\n",
       "      <td>5</td>\n",
       "      <td>7</td>\n",
       "      <td>6</td>\n",
       "      <td>7</td>\n",
       "      <td>...</td>\n",
       "      <td>4</td>\n",
       "      <td>3</td>\n",
       "      <td>4</td>\n",
       "      <td>5</td>\n",
       "      <td>3</td>\n",
       "    </tr>\n",
       "  </tbody>\n",
       "</table>\n",
       "<p>5 rows × 63 columns</p>\n",
       "</div>"
      ],
      "text/plain": [
       "    Q1  Q2  Q3  Q4  Q5   ...     Q59  Q60  Q61  Q62  cluster\n",
       "id                       ...                                \n",
       "1    6   2   4   3   1   ...       4    4    4    2        1\n",
       "2    7   7   7   5   4   ...       3    5    4    5        0\n",
       "3    5   4   6   5   7   ...       5    3    4    4        3\n",
       "4    4   2   5   4   2   ...       5    5    5    3        1\n",
       "5    5   5   7   6   7   ...       4    3    4    5        3\n",
       "\n",
       "[5 rows x 63 columns]"
      ]
     },
     "execution_count": 174,
     "metadata": {},
     "output_type": "execute_result"
    }
   ],
   "source": [
    "# print(model.labels_.shape)\n",
    "dfk = pd.concat([df,pd.Series(model.labels_, index=df.index)],axis=1, ignore_index=True)\n",
    "cols = df.columns.tolist()\n",
    "cols.append('cluster')\n",
    "dfk.columns = cols\n",
    "print(dfk.shape)\n",
    "dfk.head()"
   ]
  },
  {
   "cell_type": "code",
   "execution_count": 188,
   "metadata": {
    "collapsed": false
   },
   "outputs": [
    {
     "name": "stdout",
     "output_type": "stream",
     "text": [
      "cluster = 0\n",
      "3.91025641026\n",
      "cluster = 1\n",
      "3.97333333333\n",
      "cluster = 2\n",
      "3.84375\n",
      "cluster = 3\n",
      "4.16923076923\n"
     ]
    },
    {
     "data": {
      "image/png": "[encoded data removed]",
      "text/plain": [
       "<matplotlib.figure.Figure at 0x1186f97f0>"
      ]
     },
     "metadata": {},
     "output_type": "display_data"
    }
   ],
   "source": [
    "colordict = {0: 'red', 1: 'green', 2: 'blue', 3: 'yellow'}\n",
    "f, axes = plt.subplots(2,2,figsize=(12,8))\n",
    "for i in range(4):\n",
    "    print('cluster =',i)\n",
    "    curr = dfk['Q13'][dfk['cluster']==i]\n",
    "    print(curr.mean())\n",
    "    curr.hist(bins=np.arange(0.5,7.5,1), color=colordict[i], ax=axes[i//2][i%2])"
   ]
  },
  {
   "cell_type": "code",
   "execution_count": 156,
   "metadata": {
    "collapsed": false
   },
   "outputs": [
    {
     "name": "stdout",
     "output_type": "stream",
     "text": [
      "Most important questions\n",
      "\n",
      "6.582 46 When it comes to cars my heart rules my head\n",
      "6.572 47 My car must have a very individual interior\n",
      "6.513 45 I always want the latest style and design in a vehicle\n",
      "6.507 43 I want to buy a car that makes a statement about me\n",
      "6.503 49 People ought to buy domestic products for the good of the country\n",
      "\n",
      "Least important questions\n",
      "\n",
      "1.319 23 Image is not important to me in a car\n",
      "1.360 54 I have a relationship with my car\n",
      "1.381 55 Most environmentally friendly products do not perform as well as those they replaced\n",
      "1.408 51 Cars all look the same these days\n",
      "1.462 53 I want a car that drives well on country roads\n"
     ]
    }
   ],
   "source": [
    "interpret(centroid_78)"
   ]
  },
  {
   "cell_type": "code",
   "execution_count": 110,
   "metadata": {
    "collapsed": false
   },
   "outputs": [
    {
     "name": "stdout",
     "output_type": "stream",
     "text": [
      "Most important questions\n",
      "\n",
      "I want the most equipment I can get for my money\n",
      "I want a car that is nippy and zippy\n",
      "Small cars are much safer nowadays\n",
      "Good aerodynamics help fuel economy\n",
      "I wish there were stricter exhaust regulations\n",
      "\n",
      "Least important questions\n",
      "\n",
      "Having a masculine car is important to me\n",
      "Domestic made is best made\n",
      "Buying a car on a lower interest rate does not interest me\n",
      "I want a car that drives well on country roads\n",
      "Small cars are not prestigious\n"
     ]
    }
   ],
   "source": [
    "interpret(centroid_75)"
   ]
  },
  {
   "cell_type": "code",
   "execution_count": 111,
   "metadata": {
    "collapsed": false
   },
   "outputs": [
    {
     "name": "stdout",
     "output_type": "stream",
     "text": [
      "Most important questions\n",
      "\n",
      "I prefer cars with high performance\n",
      "For me a car is a symbol of freedom and independence\n",
      "I want the most equipment I can get for my money\n",
      "I want a comfortable car\n",
      "Small cars are much safer nowadays\n",
      "\n",
      "Least important questions\n",
      "\n",
      "In today's world it is anti-social to drive big cars\n",
      "Small cars are for kids\n",
      "Many manufacturers do not really care about their customers needs\n",
      "When buying a car I only consider a national make\n",
      "The government should implement policies that favor public transportation\n"
     ]
    }
   ],
   "source": [
    "interpret(centroid_65)"
   ]
  },
  {
   "cell_type": "code",
   "execution_count": 112,
   "metadata": {
    "collapsed": false
   },
   "outputs": [
    {
     "name": "stdout",
     "output_type": "stream",
     "text": [
      "Most important questions\n",
      "\n",
      "I have always been fascinated by cars which have a cult following\n",
      "I prefer cars with high performance\n",
      "I do not believe that a Swatch branded car will be successful\n",
      "City driving is my main concern\n",
      "Basic transportation is all I need\n",
      "\n",
      "Least important questions\n",
      "\n",
      "Many manufacturers do not really care about their customers needs\n",
      "I want to buy a car that makes a statement about me\n",
      "In today's world it is anti-social to drive big cars\n",
      "I would rather deal with a manufacturer's rep than a salesperson\n",
      "Small cars take up less room in today's traffic\n"
     ]
    }
   ],
   "source": [
    "interpret(centroid_32)"
   ]
  }
 ],
 "metadata": {
  "kernelspec": {
   "display_name": "Python 3",
   "language": "python",
   "name": "python3"
  },
  "language_info": {
   "codemirror_mode": {
    "name": "ipython",
    "version": 3
   },
   "file_extension": ".py",
   "mimetype": "text/x-python",
   "name": "python",
   "nbconvert_exporter": "python",
   "pygments_lexer": "ipython3",
   "version": "3.5.1"
  }
 },
 "nbformat": 4,
 "nbformat_minor": 0
}
